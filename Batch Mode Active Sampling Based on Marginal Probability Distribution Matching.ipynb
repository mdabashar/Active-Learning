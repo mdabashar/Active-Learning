{
 "cells": [
  {
   "cell_type": "markdown",
   "metadata": {},
   "source": [
    "## Python code for \n",
    "### Batch Mode Active Sampling Based on Marginal Probability Distribution Matching\n",
    "\n",
    "This algorithm selects a set of query instances such that the marginal distribution represented by the selected instances is closest to the distribution represented by the unlabeled data. \n",
    "\n",
    "In other words, in order to learn a classifier with a budgeted number of labeled data\n",
    "this algorithm selects a set of samples $Q$ from the unlabeled set of instances $U$, such that the probability distributions represented by $L \\cup Q$ and $U \\setminus Q$ are similar to each other, where $L$ is the set of available labeled instances.\n",
    "\n",
    "##### Reference: \n",
    "Chattopadhyay, Rita, et al. \"Batch mode active sampling based on marginal probability distribution matching.\" ACM Transactions on Knowledge Discovery from Data (TKDD) 7.3 (2013): 13."
   ]
  },
  {
   "cell_type": "markdown",
   "metadata": {},
   "source": [
    "### Import required libraries"
   ]
  },
  {
   "cell_type": "code",
   "execution_count": null,
   "metadata": {},
   "outputs": [],
   "source": [
    "from sklearn.feature_extraction.text import CountVectorizer\n",
    "import pandas as pd\n",
    "import numpy as np"
   ]
  },
  {
   "cell_type": "markdown",
   "metadata": {},
   "source": [
    "### Load Data"
   ]
  },
  {
   "cell_type": "code",
   "execution_count": null,
   "metadata": {},
   "outputs": [],
   "source": [
    "base = 'data\\\\'"
   ]
  },
  {
   "cell_type": "code",
   "execution_count": null,
   "metadata": {},
   "outputs": [],
   "source": [
    "df_L = pd.read_csv(base+'L.csv', encoding='utf8')\n",
    "df_L.head(5)"
   ]
  },
  {
   "cell_type": "code",
   "execution_count": null,
   "metadata": {},
   "outputs": [],
   "source": [
    "df_U = pd.read_csv(base+'U.csv', encoding='utf8')\n",
    "df_U.head(5)"
   ]
  },
  {
   "cell_type": "code",
   "execution_count": null,
   "metadata": {},
   "outputs": [],
   "source": [
    "np.dot(np.array([[1, 1, 1]]), np.array([[1], [1], [1]]))"
   ]
  },
  {
   "cell_type": "markdown",
   "metadata": {},
   "source": [
    "## Define required functions"
   ]
  },
  {
   "cell_type": "code",
   "execution_count": null,
   "metadata": {},
   "outputs": [],
   "source": [
    "def get_V(L, U):\n",
    "    \"\"\" Generates matrix V. Each column in V contains v_k; v_k is the vector of instance x_k in (L union U)\n",
    "    \n",
    "    inputs: \n",
    "        L: a list of labelled instances\n",
    "        U: a list of unlabelled instances\n",
    "    returns:\n",
    "        count_vectorizer: count vectorizer\n",
    "        V: matrix of v_k vectors of instances (row vector format)\n",
    "        Vt: transposed matrix of V (column vector format)\n",
    "    \"\"\" \n",
    "    count_vectorizer = CountVectorizer()\n",
    "    V = count_vectorizer.fit_transform(U + L)\n",
    "    return count_vectorizer, V.toarray()"
   ]
  },
  {
   "cell_type": "code",
   "execution_count": null,
   "metadata": {},
   "outputs": [],
   "source": [
    "count_vectorizer, V = get_V(L=list(df_L['text']), U=list(df_U['text']))\n",
    "V[0]"
   ]
  },
  {
   "cell_type": "markdown",
   "metadata": {},
   "source": [
    "### Compute $K_1, k_2$ and $k_3$ as explained in section 2.2.\n",
    "\n",
    "  1. Kernel gram matrix G is a $(n_u + n_l)$ by $(n_u + n_l)$ matrix\n",
    "  \n",
    "  2. Kernel function K such that $G(i, j) = K(x_i, x_j)$\n",
    "  \n",
    "  3. $K_1 = G(1 : n_u, 1 : n_u)$\n",
    " \n",
    "  4. $k_2(i) = \\frac{n_l + b}{n_l + n_u} \\sum_{j=1}^{n_u} K_1(i, j)$\n",
    "  \n",
    "  5. $k_3(i) = \\frac{n_u - b}{n_l + n_u} \\sum_{j=1}^{n_l} G(i, n_u + j)$\n",
    "  \n",
    "Where\n",
    "  1. $X = {x_1, \\dots, x_n}$ is a set of instances\n",
    "  2. $n_u$ is the size of $U$, where $U$ is the set of unlabelled instances\n",
    "  3. $n_l$ is the size of $L$, where $L$ is the set of unlabelled instances\n",
    "  4. Kernel gram matrix a set of vectors $v_1, \\dots, v_n$ whose entries are given by $G_{i, j} = \\left<v_i, v_j \\right>$. For finite-dimensional real vectors in $\\mathbb{R}^n$ with the usual Euclidean dot product, the Gram matrix $G$ is simply $G=V^{\\mathrm {T} }V$, where $V$ is a matrix whose columns are the vectors $v_{k}$. More specifically: for the linear kernel, the Gram matrix is simply the inner product $G_{i,j} = x_{i}^T x_j$. For other kernels, it is the inner product in a feature space with feature map $\\phi$: i.e. $G_{i,j} = \\phi(x_i)^T \\phi(x_j)$\n",
    "  "
   ]
  },
  {
   "cell_type": "code",
   "execution_count": null,
   "metadata": {},
   "outputs": [],
   "source": [
    "def get_G(V=None):\n",
    "    \"\"\" Calculates the kernel gram matrix G \n",
    "    \n",
    "    inputs: \n",
    "        V: matrix of v_k vectors of instances in (L union U)\n",
    "    returns: \n",
    "        G: kernel gram matrix\n",
    "    \"\"\"\n",
    "    G = np.matmul(np.array(V), np.array(V).transpose())\n",
    "    \n",
    "    # codes here\n",
    "    return G"
   ]
  },
  {
   "cell_type": "code",
   "execution_count": null,
   "metadata": {},
   "outputs": [],
   "source": [
    "G = get_G(V=V)\n",
    "G"
   ]
  },
  {
   "cell_type": "code",
   "execution_count": null,
   "metadata": {},
   "outputs": [],
   "source": [
    "def get_K1(G=None, nu=0):\n",
    "    \"\"\" Extracts entries of unlabelled instances from G\n",
    "    \n",
    "    inputs: \n",
    "        G: kernel gram matrix\n",
    "    returns: \n",
    "        K1: returns matrix K1\n",
    "    \"\"\"\n",
    "    return G[:nu, 0:nu]"
   ]
  },
  {
   "cell_type": "code",
   "execution_count": null,
   "metadata": {},
   "outputs": [],
   "source": [
    "K1 = get_K1(G=G, nu=len(df_U))\n",
    "K1"
   ]
  },
  {
   "cell_type": "code",
   "execution_count": null,
   "metadata": {},
   "outputs": [],
   "source": [
    "def get_k2_i(i=0, nl=0, nu=0, b=0, K1=None):\n",
    "    # returns scaler k2(i)\n",
    "    return (nl+b)/(nl+nu)*sum(K1[i])\n",
    "\n",
    "def get_k2(nl=0, nu=0, b=0, K1=None):\n",
    "    # returns vector k2\n",
    "    k2 = []\n",
    "    for i in range(len(K1)):\n",
    "        k2.append(get_k2_i(i=i, nl=nl, nu=nu, b=b, K1=K1))\n",
    "    return k2"
   ]
  },
  {
   "cell_type": "code",
   "execution_count": null,
   "metadata": {},
   "outputs": [],
   "source": [
    "b = 10 # set batch size"
   ]
  },
  {
   "cell_type": "code",
   "execution_count": null,
   "metadata": {},
   "outputs": [],
   "source": [
    "k2 = get_k2(nl=len(df_L), nu=len(df_U), b=b, K1=K1)\n",
    "k2[0]"
   ]
  },
  {
   "cell_type": "code",
   "execution_count": null,
   "metadata": {},
   "outputs": [],
   "source": [
    "def get_k3_i(i=0, nl=0, nu=0, b=0, G=None):\n",
    "    # returns skeller k3(i)\n",
    "    return (nu-b)/(nu+nl)*sum(G[i][nu-1:])\n",
    "\n",
    "def get_k3(K1len=0, nl=0, nu=0, b=0, G=None):\n",
    "    # returns vector k3\n",
    "    k3 = []\n",
    "    for i in range(K1len):\n",
    "        k3.append(get_k3_i(i=i, nl=nl, nu=nu, b=b, G=G))\n",
    "    return k3"
   ]
  },
  {
   "cell_type": "code",
   "execution_count": null,
   "metadata": {},
   "outputs": [],
   "source": [
    "k3 = get_k3(K1len=len(K1), nl=len(df_L), nu=len(df_U), b=b, G=G)\n",
    "k3[0]"
   ]
  },
  {
   "cell_type": "code",
   "execution_count": null,
   "metadata": {},
   "outputs": [],
   "source": [
    "def compute_K1_k2_k3(V=None, nu=0, nl=0):\n",
    "    G = get_G(V)\n",
    "    K1 = get_K1(G, len(df_U))\n",
    "    k2 = get_k2(nl=len(df_L), nu=len(df_U), b=b, K1=K1)\n",
    "    k3 = get_k3(K1len=len(K1), nl=len(df_L), nu=len(df_U), b=b, G=G)\n",
    "    \n",
    "    return K1, k2, k3"
   ]
  },
  {
   "cell_type": "code",
   "execution_count": null,
   "metadata": {},
   "outputs": [],
   "source": [
    "def form_D_matrix(K1=None, k2=None, k3=None):\n",
    "    # compute D matrix as explained in section 2.3\n",
    "    D = []\n",
    "    for i in range(len(K1)):# each row of K1 \n",
    "        v = []\n",
    "        for j in range(len(K1[0])):\n",
    "            if i==j:\n",
    "                e = K1[i][j] - k2[i] + k3[i]\n",
    "            else:\n",
    "                e = K1[i][j]\n",
    "            v.append(e)\n",
    "        D.append(v)\n",
    "            \n",
    "    return D"
   ]
  },
  {
   "cell_type": "code",
   "execution_count": null,
   "metadata": {},
   "outputs": [],
   "source": [
    "D = form_D_matrix(K1=K1, k2=k2, k3=k3)\n",
    "D[0][:10]"
   ]
  },
  {
   "cell_type": "markdown",
   "metadata": {},
   "source": [
    "### compute alpha (i.e. $\\alpha$) by solving equation 13\n",
    "1. $\\alpha$ (i.e. alpha)  a binary vector, i.e. each entry in $\\alpha$ is either 0 or 1. \n",
    "2. If an instance is selected, the corresponding entry in vector $\\alpha$ is 1 else 0.\n",
    "3. The cost function in equation 5 is: $f(Q) = \\left | \\left | \\frac{1}{n_l+b}\\sum_{j\\in L\\cup Q}\\Phi(x_j) - \\frac{1}{n_u-b} \\sum_{i\\in U \\setminus Q} \\Phi(x_i)\\right | \\right |^2_\\mathcal{H}$\n",
    "4. The minimization problem is to finding the $\\alpha$ that minimizes the cost function f(Q) in Equation 5, which can be reformulated as equation 13 as follows:\n",
    "$\\min_{\\alpha} \\frac{1}{2} \\sum_{d_{i,j}<0} d_{i,j}\\times (\\alpha_i+\\alpha_j) + \\sum_{d_{i,j}>0} d_{i,j} \\times (\\alpha_i \\times \\alpha_j)$\n",
    "\n",
    "P.N. The above optimisation is writen as follows in the paper:\n",
    "$\\min_{\\alpha} \\frac{1}{2} \\sum_{d_{i,j}<0} d_{i,j}\\times (\\alpha_i+\\alpha_j) + \\sum_{d_{i,j}>0} d_{i,j} \\times z_{i,j}$, where $z_{i,j} = (\\alpha_i \\times \\alpha_j)$"
   ]
  },
  {
   "cell_type": "code",
   "execution_count": null,
   "metadata": {},
   "outputs": [],
   "source": [
    "def cost_fun(D, alpha):\n",
    "    cost = 0\n",
    "    for i in range(len(D)):\n",
    "        for j in range(len(D[0])):\n",
    "            if D[i][j]<0:\n",
    "                cost += D[i][j]*(alpha[i]+alpha[j])*0.5\n",
    "            else:\n",
    "                cost += D[i][j]*alpha[i]*alpha[j]\n",
    "    return cost\n",
    "\n",
    "def compute_alpha(nu=0, b=0, D=None):\n",
    "    \"\"\" computes binary vector alpha\n",
    "    \n",
    "    inputs:\n",
    "        D: D matrix\n",
    "        nu: number of unlabelled instances\n",
    "        b: batch size\n",
    "    returns: alpha\n",
    "    \"\"\"\n",
    "    \n",
    "    alpha = []\n",
    "    alpha = np.array([0] * nu) # initialize alpha to zeros\n",
    "    # update alpha iteratively for unlabelled instances\n",
    "    pre_cost = cost_fun(D, alpha)\n",
    "    for i in range(nu):\n",
    "        alpha[i] = 1 \n",
    "        curr_cost = cost_fun(D, alpha)\n",
    "        if curr_cost >= pre_cost: \n",
    "            alpha[i] = 0\n",
    "    return alpha"
   ]
  },
  {
   "cell_type": "code",
   "execution_count": null,
   "metadata": {},
   "outputs": [],
   "source": [
    "alpha = compute_alpha(nu=len(df_U),  b=b, D=D)\n",
    "alpha[:20]"
   ]
  },
  {
   "cell_type": "code",
   "execution_count": null,
   "metadata": {},
   "outputs": [],
   "source": [
    "sum(alpha)"
   ]
  },
  {
   "cell_type": "code",
   "execution_count": null,
   "metadata": {},
   "outputs": [],
   "source": [
    "def sort_U_by_alpha(U=None, alpha=alpha):\n",
    "    keys, U = zip(*sorted(zip(alpha, U)))\n",
    "    return U"
   ]
  },
  {
   "cell_type": "code",
   "execution_count": null,
   "metadata": {},
   "outputs": [],
   "source": [
    "U = sort_U_by_alpha(list(df_U['text']), alpha=alpha)\n",
    "U[:5]"
   ]
  },
  {
   "cell_type": "code",
   "execution_count": null,
   "metadata": {},
   "outputs": [],
   "source": [
    "def get_top_b(U=None, b=10):\n",
    "    return U[:b]"
   ]
  },
  {
   "cell_type": "code",
   "execution_count": null,
   "metadata": {},
   "outputs": [],
   "source": [
    "Q = get_top_b(U=U, b=b)\n",
    "Q[:5]"
   ]
  },
  {
   "cell_type": "code",
   "execution_count": null,
   "metadata": {},
   "outputs": [],
   "source": [
    "def update_U(U=None, Q=None):\n",
    "    \"\"\" updates L and U\n",
    "    \n",
    "    inputs:\n",
    "        U: list of unlabelled instances\n",
    "        Q: list of query instances\n",
    "    returns:\n",
    "        U: updated U\n",
    "    \"\"\"\n",
    "    \n",
    "    # code to update U\n",
    "    U = list(set(U)-set(Q))\n",
    "    \n",
    "    return U"
   ]
  },
  {
   "cell_type": "code",
   "execution_count": null,
   "metadata": {},
   "outputs": [],
   "source": [
    "U = update_U(U=U, Q=Q)\n",
    "U[:5]"
   ]
  },
  {
   "cell_type": "code",
   "execution_count": null,
   "metadata": {},
   "outputs": [],
   "source": [
    "# main cell\n",
    "# This is the algorithm MP-AL (for LP Problem). \n",
    "# Or we can skip calling corresponding functions above and call this function.\n",
    "\n",
    "def marginal_prob_algo(L=None, U=None, b=10):\n",
    "    \"\"\" Batch Mode Active Sampling Based on Marginal Probability Distribution Matching\n",
    "    \n",
    "    inputs:\n",
    "        L: a set of labelled instances\n",
    "        U: a set of unlabelled instances\n",
    "        b: batch size\n",
    "        \n",
    "    returns: \n",
    "        Q: query set, i.e. a set of instances selected for labelling\n",
    "    \n",
    "    \"\"\"\n",
    "    count_vectorizer, V = get_V(L=L, U=U)\n",
    "    G = get_G(V=V)\n",
    "    K1, k2, k3 = compute_K1_k2_k3(V=V, nu=len(U), nl=len(L))\n",
    "    D = form_D_matrix(K1=K1, k2=k2, k3=k3)\n",
    "    alpha = compute_alpha(nu=len(U), b=b, D=D)\n",
    "    U = sort_U_by_alpha(U=U, alpha=alpha)\n",
    "    Q = get_top_b(U=U, b=b)\n",
    "    return U, Q"
   ]
  },
  {
   "cell_type": "code",
   "execution_count": null,
   "metadata": {},
   "outputs": [],
   "source": [
    "# We can skip calling this function because U and Q already collected in previous cells.\n",
    "# U, Q = marginal_prob_algo(L=list(df_L['text']), U=list(df_U['text']), b=b)"
   ]
  },
  {
   "cell_type": "markdown",
   "metadata": {},
   "source": [
    "### Store Q for labellig, and store updated U"
   ]
  },
  {
   "cell_type": "code",
   "execution_count": null,
   "metadata": {},
   "outputs": [],
   "source": [
    "# store Q for labellig\n",
    "# store updated U\n",
    "\n",
    "df_Uu = pd.DataFrame(zip([0]*len(U), U), columns=['label', 'text'])\n",
    "df_Q = pd.DataFrame(zip([0]*len(Q), Q), columns=['label', 'text'])"
   ]
  },
  {
   "cell_type": "code",
   "execution_count": null,
   "metadata": {},
   "outputs": [],
   "source": [
    "df_Uu.head()"
   ]
  },
  {
   "cell_type": "code",
   "execution_count": null,
   "metadata": {},
   "outputs": [],
   "source": [
    "df_Uu.to_csv(base+'Uu.csv', index=None, encoding='utf8')"
   ]
  },
  {
   "cell_type": "code",
   "execution_count": null,
   "metadata": {},
   "outputs": [],
   "source": [
    "df_Q.head()"
   ]
  },
  {
   "cell_type": "code",
   "execution_count": null,
   "metadata": {},
   "outputs": [],
   "source": [
    "df_Q.to_csv(base+'Q.csv', index=None, encoding='utf8')"
   ]
  },
  {
   "cell_type": "markdown",
   "metadata": {},
   "source": [
    "# Please let me know if you have any feedback. "
   ]
  }
 ],
 "metadata": {
  "kernelspec": {
   "display_name": "Python 3",
   "language": "python",
   "name": "python3"
  },
  "language_info": {
   "codemirror_mode": {
    "name": "ipython",
    "version": 3
   },
   "file_extension": ".py",
   "mimetype": "text/x-python",
   "name": "python",
   "nbconvert_exporter": "python",
   "pygments_lexer": "ipython3",
   "version": "3.7.3"
  }
 },
 "nbformat": 4,
 "nbformat_minor": 2
}
